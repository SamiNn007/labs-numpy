{
 "cells": [
  {
   "cell_type": "code",
   "execution_count": 24,
   "metadata": {
    "pycharm": {
     "name": "#%%\n"
    }
   },
   "outputs": [],
   "source": [
    "import pandas as pd\n",
    "import mysql.connector\n",
    "## the library that allows connection bewtween sql and python"
   ]
  },
  {
   "cell_type": "code",
   "execution_count": 25,
   "metadata": {
    "pycharm": {
     "name": "#%%\n"
    }
   },
   "outputs": [],
   "source": [
    "cnx = mysql.connector.connect(user = \"root\",\n",
    "                            password = \"7004\",\n",
    "                            host = '127.0.0.1')\n",
    "                            # establishing a connection toa a databse ---> a group of tables that are relational"
   ]
  },
  {
   "cell_type": "code",
   "execution_count": 26,
   "metadata": {
    "pycharm": {
     "name": "#%%\n"
    }
   },
   "outputs": [
    {
     "data": {
      "text/plain": [
       "True"
      ]
     },
     "execution_count": 26,
     "metadata": {},
     "output_type": "execute_result"
    }
   ],
   "source": [
    "cnx.is_connected()"
   ]
  },
  {
   "cell_type": "code",
   "execution_count": 27,
   "metadata": {
    "pycharm": {
     "name": "#%%\n"
    }
   },
   "outputs": [],
   "source": [
    "# we neeed\n",
    "\n",
    "cursor = cnx.cursor()"
   ]
  },
  {
   "cell_type": "code",
   "execution_count": 28,
   "metadata": {
    "pycharm": {
     "name": "#%%\n"
    }
   },
   "outputs": [],
   "source": [
    "#now we need a query\n",
    "query = \"\"\"\n",
    "SELECT *\n",
    "FROM sakila.actor;\n",
    "\"\"\""
   ]
  },
  {
   "cell_type": "code",
   "execution_count": 29,
   "metadata": {
    "pycharm": {
     "name": "#%%\n"
    }
   },
   "outputs": [],
   "source": [
    "cursor.execute(query)"
   ]
  },
  {
   "cell_type": "code",
   "execution_count": 30,
   "metadata": {
    "pycharm": {
     "name": "#%%\n"
    }
   },
   "outputs": [
    {
     "data": {
      "text/plain": [
       "[(1, 'PENELOPE', 'GUINESS', datetime.datetime(2006, 2, 15, 4, 34, 33)),\n",
       " (2, 'NICK', 'WAHLBERG', datetime.datetime(2006, 2, 15, 4, 34, 33)),\n",
       " (3, 'ED', 'CHASE', datetime.datetime(2006, 2, 15, 4, 34, 33)),\n",
       " (4, 'JENNIFER', 'DAVIS', datetime.datetime(2006, 2, 15, 4, 34, 33)),\n",
       " (5, 'JOHNNY', 'LOLLOBRIGIDA', datetime.datetime(2006, 2, 15, 4, 34, 33)),\n",
       " (6, 'BETTE', 'NICHOLSON', datetime.datetime(2006, 2, 15, 4, 34, 33)),\n",
       " (7, 'GRACE', 'MOSTEL', datetime.datetime(2006, 2, 15, 4, 34, 33)),\n",
       " (8, 'MATTHEW', 'JOHANSSON', datetime.datetime(2006, 2, 15, 4, 34, 33)),\n",
       " (9, 'JOE', 'SWANK', datetime.datetime(2006, 2, 15, 4, 34, 33)),\n",
       " (10, 'CHRISTIAN', 'GABLE', datetime.datetime(2006, 2, 15, 4, 34, 33)),\n",
       " (11, 'ZERO', 'CAGE', datetime.datetime(2006, 2, 15, 4, 34, 33)),\n",
       " (12, 'KARL', 'BERRY', datetime.datetime(2006, 2, 15, 4, 34, 33)),\n",
       " (13, 'UMA', 'WOOD', datetime.datetime(2006, 2, 15, 4, 34, 33)),\n",
       " (14, 'VIVIEN', 'BERGEN', datetime.datetime(2006, 2, 15, 4, 34, 33)),\n",
       " (15, 'CUBA', 'OLIVIER', datetime.datetime(2006, 2, 15, 4, 34, 33)),\n",
       " (16, 'FRED', 'COSTNER', datetime.datetime(2006, 2, 15, 4, 34, 33)),\n",
       " (17, 'HELEN', 'VOIGHT', datetime.datetime(2006, 2, 15, 4, 34, 33)),\n",
       " (18, 'DAN', 'TORN', datetime.datetime(2006, 2, 15, 4, 34, 33)),\n",
       " (19, 'BOB', 'FAWCETT', datetime.datetime(2006, 2, 15, 4, 34, 33)),\n",
       " (20, 'LUCILLE', 'TRACY', datetime.datetime(2006, 2, 15, 4, 34, 33)),\n",
       " (21, 'KIRSTEN', 'PALTROW', datetime.datetime(2006, 2, 15, 4, 34, 33)),\n",
       " (22, 'ELVIS', 'MARX', datetime.datetime(2006, 2, 15, 4, 34, 33)),\n",
       " (23, 'SANDRA', 'KILMER', datetime.datetime(2006, 2, 15, 4, 34, 33)),\n",
       " (24, 'CAMERON', 'STREEP', datetime.datetime(2006, 2, 15, 4, 34, 33)),\n",
       " (25, 'KEVIN', 'BLOOM', datetime.datetime(2006, 2, 15, 4, 34, 33)),\n",
       " (26, 'RIP', 'CRAWFORD', datetime.datetime(2006, 2, 15, 4, 34, 33)),\n",
       " (27, 'JULIA', 'MCQUEEN', datetime.datetime(2006, 2, 15, 4, 34, 33)),\n",
       " (28, 'WOODY', 'HOFFMAN', datetime.datetime(2006, 2, 15, 4, 34, 33)),\n",
       " (29, 'ALEC', 'WAYNE', datetime.datetime(2006, 2, 15, 4, 34, 33)),\n",
       " (30, 'SANDRA', 'PECK', datetime.datetime(2006, 2, 15, 4, 34, 33)),\n",
       " (31, 'SISSY', 'SOBIESKI', datetime.datetime(2006, 2, 15, 4, 34, 33)),\n",
       " (32, 'TIM', 'HACKMAN', datetime.datetime(2006, 2, 15, 4, 34, 33)),\n",
       " (33, 'MILLA', 'PECK', datetime.datetime(2006, 2, 15, 4, 34, 33)),\n",
       " (34, 'AUDREY', 'OLIVIER', datetime.datetime(2006, 2, 15, 4, 34, 33)),\n",
       " (35, 'JUDY', 'DEAN', datetime.datetime(2006, 2, 15, 4, 34, 33)),\n",
       " (36, 'BURT', 'DUKAKIS', datetime.datetime(2006, 2, 15, 4, 34, 33)),\n",
       " (37, 'VAL', 'BOLGER', datetime.datetime(2006, 2, 15, 4, 34, 33)),\n",
       " (38, 'TOM', 'MCKELLEN', datetime.datetime(2006, 2, 15, 4, 34, 33)),\n",
       " (39, 'GOLDIE', 'BRODY', datetime.datetime(2006, 2, 15, 4, 34, 33)),\n",
       " (40, 'JOHNNY', 'CAGE', datetime.datetime(2006, 2, 15, 4, 34, 33)),\n",
       " (41, 'JODIE', 'DEGENERES', datetime.datetime(2006, 2, 15, 4, 34, 33)),\n",
       " (42, 'TOM', 'MIRANDA', datetime.datetime(2006, 2, 15, 4, 34, 33)),\n",
       " (43, 'KIRK', 'JOVOVICH', datetime.datetime(2006, 2, 15, 4, 34, 33)),\n",
       " (44, 'NICK', 'STALLONE', datetime.datetime(2006, 2, 15, 4, 34, 33)),\n",
       " (45, 'REESE', 'KILMER', datetime.datetime(2006, 2, 15, 4, 34, 33)),\n",
       " (46, 'PARKER', 'GOLDBERG', datetime.datetime(2006, 2, 15, 4, 34, 33)),\n",
       " (47, 'JULIA', 'BARRYMORE', datetime.datetime(2006, 2, 15, 4, 34, 33)),\n",
       " (48, 'FRANCES', 'DAY-LEWIS', datetime.datetime(2006, 2, 15, 4, 34, 33)),\n",
       " (49, 'ANNE', 'CRONYN', datetime.datetime(2006, 2, 15, 4, 34, 33)),\n",
       " (50, 'NATALIE', 'HOPKINS', datetime.datetime(2006, 2, 15, 4, 34, 33)),\n",
       " (51, 'GARY', 'PHOENIX', datetime.datetime(2006, 2, 15, 4, 34, 33)),\n",
       " (52, 'CARMEN', 'HUNT', datetime.datetime(2006, 2, 15, 4, 34, 33)),\n",
       " (53, 'MENA', 'TEMPLE', datetime.datetime(2006, 2, 15, 4, 34, 33)),\n",
       " (54, 'PENELOPE', 'PINKETT', datetime.datetime(2006, 2, 15, 4, 34, 33)),\n",
       " (55, 'FAY', 'KILMER', datetime.datetime(2006, 2, 15, 4, 34, 33)),\n",
       " (56, 'DAN', 'HARRIS', datetime.datetime(2006, 2, 15, 4, 34, 33)),\n",
       " (57, 'JUDE', 'CRUISE', datetime.datetime(2006, 2, 15, 4, 34, 33)),\n",
       " (58, 'CHRISTIAN', 'AKROYD', datetime.datetime(2006, 2, 15, 4, 34, 33)),\n",
       " (59, 'DUSTIN', 'TAUTOU', datetime.datetime(2006, 2, 15, 4, 34, 33)),\n",
       " (60, 'HENRY', 'BERRY', datetime.datetime(2006, 2, 15, 4, 34, 33)),\n",
       " (61, 'CHRISTIAN', 'NEESON', datetime.datetime(2006, 2, 15, 4, 34, 33)),\n",
       " (62, 'JAYNE', 'NEESON', datetime.datetime(2006, 2, 15, 4, 34, 33)),\n",
       " (63, 'CAMERON', 'WRAY', datetime.datetime(2006, 2, 15, 4, 34, 33)),\n",
       " (64, 'RAY', 'JOHANSSON', datetime.datetime(2006, 2, 15, 4, 34, 33)),\n",
       " (65, 'ANGELA', 'HUDSON', datetime.datetime(2006, 2, 15, 4, 34, 33)),\n",
       " (66, 'MARY', 'TANDY', datetime.datetime(2006, 2, 15, 4, 34, 33)),\n",
       " (67, 'JESSICA', 'BAILEY', datetime.datetime(2006, 2, 15, 4, 34, 33)),\n",
       " (68, 'RIP', 'WINSLET', datetime.datetime(2006, 2, 15, 4, 34, 33)),\n",
       " (69, 'KENNETH', 'PALTROW', datetime.datetime(2006, 2, 15, 4, 34, 33)),\n",
       " (70, 'MICHELLE', 'MCCONAUGHEY', datetime.datetime(2006, 2, 15, 4, 34, 33)),\n",
       " (71, 'ADAM', 'GRANT', datetime.datetime(2006, 2, 15, 4, 34, 33)),\n",
       " (72, 'SEAN', 'WILLIAMS', datetime.datetime(2006, 2, 15, 4, 34, 33)),\n",
       " (73, 'GARY', 'PENN', datetime.datetime(2006, 2, 15, 4, 34, 33)),\n",
       " (74, 'MILLA', 'KEITEL', datetime.datetime(2006, 2, 15, 4, 34, 33)),\n",
       " (75, 'BURT', 'POSEY', datetime.datetime(2006, 2, 15, 4, 34, 33)),\n",
       " (76, 'ANGELINA', 'ASTAIRE', datetime.datetime(2006, 2, 15, 4, 34, 33)),\n",
       " (77, 'CARY', 'MCCONAUGHEY', datetime.datetime(2006, 2, 15, 4, 34, 33)),\n",
       " (78, 'GROUCHO', 'SINATRA', datetime.datetime(2006, 2, 15, 4, 34, 33)),\n",
       " (79, 'MAE', 'HOFFMAN', datetime.datetime(2006, 2, 15, 4, 34, 33)),\n",
       " (80, 'RALPH', 'CRUZ', datetime.datetime(2006, 2, 15, 4, 34, 33)),\n",
       " (81, 'SCARLETT', 'DAMON', datetime.datetime(2006, 2, 15, 4, 34, 33)),\n",
       " (82, 'WOODY', 'JOLIE', datetime.datetime(2006, 2, 15, 4, 34, 33)),\n",
       " (83, 'BEN', 'WILLIS', datetime.datetime(2006, 2, 15, 4, 34, 33)),\n",
       " (84, 'JAMES', 'PITT', datetime.datetime(2006, 2, 15, 4, 34, 33)),\n",
       " (85, 'MINNIE', 'ZELLWEGER', datetime.datetime(2006, 2, 15, 4, 34, 33)),\n",
       " (86, 'GREG', 'CHAPLIN', datetime.datetime(2006, 2, 15, 4, 34, 33)),\n",
       " (87, 'SPENCER', 'PECK', datetime.datetime(2006, 2, 15, 4, 34, 33)),\n",
       " (88, 'KENNETH', 'PESCI', datetime.datetime(2006, 2, 15, 4, 34, 33)),\n",
       " (89, 'CHARLIZE', 'DENCH', datetime.datetime(2006, 2, 15, 4, 34, 33)),\n",
       " (90, 'SEAN', 'GUINESS', datetime.datetime(2006, 2, 15, 4, 34, 33)),\n",
       " (91, 'CHRISTOPHER', 'BERRY', datetime.datetime(2006, 2, 15, 4, 34, 33)),\n",
       " (92, 'KIRSTEN', 'AKROYD', datetime.datetime(2006, 2, 15, 4, 34, 33)),\n",
       " (93, 'ELLEN', 'PRESLEY', datetime.datetime(2006, 2, 15, 4, 34, 33)),\n",
       " (94, 'KENNETH', 'TORN', datetime.datetime(2006, 2, 15, 4, 34, 33)),\n",
       " (95, 'DARYL', 'WAHLBERG', datetime.datetime(2006, 2, 15, 4, 34, 33)),\n",
       " (96, 'GENE', 'WILLIS', datetime.datetime(2006, 2, 15, 4, 34, 33)),\n",
       " (97, 'MEG', 'HAWKE', datetime.datetime(2006, 2, 15, 4, 34, 33)),\n",
       " (98, 'CHRIS', 'BRIDGES', datetime.datetime(2006, 2, 15, 4, 34, 33)),\n",
       " (99, 'JIM', 'MOSTEL', datetime.datetime(2006, 2, 15, 4, 34, 33)),\n",
       " (100, 'SPENCER', 'DEPP', datetime.datetime(2006, 2, 15, 4, 34, 33)),\n",
       " (101, 'SUSAN', 'DAVIS', datetime.datetime(2006, 2, 15, 4, 34, 33)),\n",
       " (102, 'WALTER', 'TORN', datetime.datetime(2006, 2, 15, 4, 34, 33)),\n",
       " (103, 'MATTHEW', 'LEIGH', datetime.datetime(2006, 2, 15, 4, 34, 33)),\n",
       " (104, 'PENELOPE', 'CRONYN', datetime.datetime(2006, 2, 15, 4, 34, 33)),\n",
       " (105, 'SIDNEY', 'CROWE', datetime.datetime(2006, 2, 15, 4, 34, 33)),\n",
       " (106, 'GROUCHO', 'DUNST', datetime.datetime(2006, 2, 15, 4, 34, 33)),\n",
       " (107, 'GINA', 'DEGENERES', datetime.datetime(2006, 2, 15, 4, 34, 33)),\n",
       " (108, 'WARREN', 'NOLTE', datetime.datetime(2006, 2, 15, 4, 34, 33)),\n",
       " (109, 'SYLVESTER', 'DERN', datetime.datetime(2006, 2, 15, 4, 34, 33)),\n",
       " (110, 'SUSAN', 'DAVIS', datetime.datetime(2006, 2, 15, 4, 34, 33)),\n",
       " (111, 'CAMERON', 'ZELLWEGER', datetime.datetime(2006, 2, 15, 4, 34, 33)),\n",
       " (112, 'RUSSELL', 'BACALL', datetime.datetime(2006, 2, 15, 4, 34, 33)),\n",
       " (113, 'MORGAN', 'HOPKINS', datetime.datetime(2006, 2, 15, 4, 34, 33)),\n",
       " (114, 'MORGAN', 'MCDORMAND', datetime.datetime(2006, 2, 15, 4, 34, 33)),\n",
       " (115, 'HARRISON', 'BALE', datetime.datetime(2006, 2, 15, 4, 34, 33)),\n",
       " (116, 'DAN', 'STREEP', datetime.datetime(2006, 2, 15, 4, 34, 33)),\n",
       " (117, 'RENEE', 'TRACY', datetime.datetime(2006, 2, 15, 4, 34, 33)),\n",
       " (118, 'CUBA', 'ALLEN', datetime.datetime(2006, 2, 15, 4, 34, 33)),\n",
       " (119, 'WARREN', 'JACKMAN', datetime.datetime(2006, 2, 15, 4, 34, 33)),\n",
       " (120, 'PENELOPE', 'MONROE', datetime.datetime(2006, 2, 15, 4, 34, 33)),\n",
       " (121, 'LIZA', 'BERGMAN', datetime.datetime(2006, 2, 15, 4, 34, 33)),\n",
       " (122, 'SALMA', 'NOLTE', datetime.datetime(2006, 2, 15, 4, 34, 33)),\n",
       " (123, 'JULIANNE', 'DENCH', datetime.datetime(2006, 2, 15, 4, 34, 33)),\n",
       " (124, 'SCARLETT', 'BENING', datetime.datetime(2006, 2, 15, 4, 34, 33)),\n",
       " (125, 'ALBERT', 'NOLTE', datetime.datetime(2006, 2, 15, 4, 34, 33)),\n",
       " (126, 'FRANCES', 'TOMEI', datetime.datetime(2006, 2, 15, 4, 34, 33)),\n",
       " (127, 'KEVIN', 'GARLAND', datetime.datetime(2006, 2, 15, 4, 34, 33)),\n",
       " (128, 'CATE', 'MCQUEEN', datetime.datetime(2006, 2, 15, 4, 34, 33)),\n",
       " (129, 'DARYL', 'CRAWFORD', datetime.datetime(2006, 2, 15, 4, 34, 33)),\n",
       " (130, 'GRETA', 'KEITEL', datetime.datetime(2006, 2, 15, 4, 34, 33)),\n",
       " (131, 'JANE', 'JACKMAN', datetime.datetime(2006, 2, 15, 4, 34, 33)),\n",
       " (132, 'ADAM', 'HOPPER', datetime.datetime(2006, 2, 15, 4, 34, 33)),\n",
       " (133, 'RICHARD', 'PENN', datetime.datetime(2006, 2, 15, 4, 34, 33)),\n",
       " (134, 'GENE', 'HOPKINS', datetime.datetime(2006, 2, 15, 4, 34, 33)),\n",
       " (135, 'RITA', 'REYNOLDS', datetime.datetime(2006, 2, 15, 4, 34, 33)),\n",
       " (136, 'ED', 'MANSFIELD', datetime.datetime(2006, 2, 15, 4, 34, 33)),\n",
       " (137, 'MORGAN', 'WILLIAMS', datetime.datetime(2006, 2, 15, 4, 34, 33)),\n",
       " (138, 'LUCILLE', 'DEE', datetime.datetime(2006, 2, 15, 4, 34, 33)),\n",
       " (139, 'EWAN', 'GOODING', datetime.datetime(2006, 2, 15, 4, 34, 33)),\n",
       " (140, 'WHOOPI', 'HURT', datetime.datetime(2006, 2, 15, 4, 34, 33)),\n",
       " (141, 'CATE', 'HARRIS', datetime.datetime(2006, 2, 15, 4, 34, 33)),\n",
       " (142, 'JADA', 'RYDER', datetime.datetime(2006, 2, 15, 4, 34, 33)),\n",
       " (143, 'RIVER', 'DEAN', datetime.datetime(2006, 2, 15, 4, 34, 33)),\n",
       " (144, 'ANGELA', 'WITHERSPOON', datetime.datetime(2006, 2, 15, 4, 34, 33)),\n",
       " (145, 'KIM', 'ALLEN', datetime.datetime(2006, 2, 15, 4, 34, 33)),\n",
       " (146, 'ALBERT', 'JOHANSSON', datetime.datetime(2006, 2, 15, 4, 34, 33)),\n",
       " (147, 'FAY', 'WINSLET', datetime.datetime(2006, 2, 15, 4, 34, 33)),\n",
       " (148, 'EMILY', 'DEE', datetime.datetime(2006, 2, 15, 4, 34, 33)),\n",
       " (149, 'RUSSELL', 'TEMPLE', datetime.datetime(2006, 2, 15, 4, 34, 33)),\n",
       " (150, 'JAYNE', 'NOLTE', datetime.datetime(2006, 2, 15, 4, 34, 33)),\n",
       " (151, 'GEOFFREY', 'HESTON', datetime.datetime(2006, 2, 15, 4, 34, 33)),\n",
       " (152, 'BEN', 'HARRIS', datetime.datetime(2006, 2, 15, 4, 34, 33)),\n",
       " (153, 'MINNIE', 'KILMER', datetime.datetime(2006, 2, 15, 4, 34, 33)),\n",
       " (154, 'MERYL', 'GIBSON', datetime.datetime(2006, 2, 15, 4, 34, 33)),\n",
       " (155, 'IAN', 'TANDY', datetime.datetime(2006, 2, 15, 4, 34, 33)),\n",
       " (156, 'FAY', 'WOOD', datetime.datetime(2006, 2, 15, 4, 34, 33)),\n",
       " (157, 'GRETA', 'MALDEN', datetime.datetime(2006, 2, 15, 4, 34, 33)),\n",
       " (158, 'VIVIEN', 'BASINGER', datetime.datetime(2006, 2, 15, 4, 34, 33)),\n",
       " (159, 'LAURA', 'BRODY', datetime.datetime(2006, 2, 15, 4, 34, 33)),\n",
       " (160, 'CHRIS', 'DEPP', datetime.datetime(2006, 2, 15, 4, 34, 33)),\n",
       " (161, 'HARVEY', 'HOPE', datetime.datetime(2006, 2, 15, 4, 34, 33)),\n",
       " (162, 'OPRAH', 'KILMER', datetime.datetime(2006, 2, 15, 4, 34, 33)),\n",
       " (163, 'CHRISTOPHER', 'WEST', datetime.datetime(2006, 2, 15, 4, 34, 33)),\n",
       " (164, 'HUMPHREY', 'WILLIS', datetime.datetime(2006, 2, 15, 4, 34, 33)),\n",
       " (165, 'AL', 'GARLAND', datetime.datetime(2006, 2, 15, 4, 34, 33)),\n",
       " (166, 'NICK', 'DEGENERES', datetime.datetime(2006, 2, 15, 4, 34, 33)),\n",
       " (167, 'LAURENCE', 'BULLOCK', datetime.datetime(2006, 2, 15, 4, 34, 33)),\n",
       " (168, 'WILL', 'WILSON', datetime.datetime(2006, 2, 15, 4, 34, 33)),\n",
       " (169, 'KENNETH', 'HOFFMAN', datetime.datetime(2006, 2, 15, 4, 34, 33)),\n",
       " (170, 'MENA', 'HOPPER', datetime.datetime(2006, 2, 15, 4, 34, 33)),\n",
       " (171, 'OLYMPIA', 'PFEIFFER', datetime.datetime(2006, 2, 15, 4, 34, 33)),\n",
       " (172, 'GROUCHO', 'WILLIAMS', datetime.datetime(2006, 2, 15, 4, 34, 33)),\n",
       " (173, 'ALAN', 'DREYFUSS', datetime.datetime(2006, 2, 15, 4, 34, 33)),\n",
       " (174, 'MICHAEL', 'BENING', datetime.datetime(2006, 2, 15, 4, 34, 33)),\n",
       " (175, 'WILLIAM', 'HACKMAN', datetime.datetime(2006, 2, 15, 4, 34, 33)),\n",
       " (176, 'JON', 'CHASE', datetime.datetime(2006, 2, 15, 4, 34, 33)),\n",
       " (177, 'GENE', 'MCKELLEN', datetime.datetime(2006, 2, 15, 4, 34, 33)),\n",
       " (178, 'LISA', 'MONROE', datetime.datetime(2006, 2, 15, 4, 34, 33)),\n",
       " (179, 'ED', 'GUINESS', datetime.datetime(2006, 2, 15, 4, 34, 33)),\n",
       " (180, 'JEFF', 'SILVERSTONE', datetime.datetime(2006, 2, 15, 4, 34, 33)),\n",
       " (181, 'MATTHEW', 'CARREY', datetime.datetime(2006, 2, 15, 4, 34, 33)),\n",
       " (182, 'DEBBIE', 'AKROYD', datetime.datetime(2006, 2, 15, 4, 34, 33)),\n",
       " (183, 'RUSSELL', 'CLOSE', datetime.datetime(2006, 2, 15, 4, 34, 33)),\n",
       " (184, 'HUMPHREY', 'GARLAND', datetime.datetime(2006, 2, 15, 4, 34, 33)),\n",
       " (185, 'MICHAEL', 'BOLGER', datetime.datetime(2006, 2, 15, 4, 34, 33)),\n",
       " (186, 'JULIA', 'ZELLWEGER', datetime.datetime(2006, 2, 15, 4, 34, 33)),\n",
       " (187, 'RENEE', 'BALL', datetime.datetime(2006, 2, 15, 4, 34, 33)),\n",
       " (188, 'ROCK', 'DUKAKIS', datetime.datetime(2006, 2, 15, 4, 34, 33)),\n",
       " (189, 'CUBA', 'BIRCH', datetime.datetime(2006, 2, 15, 4, 34, 33)),\n",
       " (190, 'AUDREY', 'BAILEY', datetime.datetime(2006, 2, 15, 4, 34, 33)),\n",
       " (191, 'GREGORY', 'GOODING', datetime.datetime(2006, 2, 15, 4, 34, 33)),\n",
       " (192, 'JOHN', 'SUVARI', datetime.datetime(2006, 2, 15, 4, 34, 33)),\n",
       " (193, 'BURT', 'TEMPLE', datetime.datetime(2006, 2, 15, 4, 34, 33)),\n",
       " (194, 'MERYL', 'ALLEN', datetime.datetime(2006, 2, 15, 4, 34, 33)),\n",
       " (195, 'JAYNE', 'SILVERSTONE', datetime.datetime(2006, 2, 15, 4, 34, 33)),\n",
       " (196, 'BELA', 'WALKEN', datetime.datetime(2006, 2, 15, 4, 34, 33)),\n",
       " (197, 'REESE', 'WEST', datetime.datetime(2006, 2, 15, 4, 34, 33)),\n",
       " (198, 'MARY', 'KEITEL', datetime.datetime(2006, 2, 15, 4, 34, 33)),\n",
       " (199, 'JULIA', 'FAWCETT', datetime.datetime(2006, 2, 15, 4, 34, 33)),\n",
       " (200, 'THORA', 'TEMPLE', datetime.datetime(2006, 2, 15, 4, 34, 33))]"
      ]
     },
     "execution_count": 30,
     "metadata": {},
     "output_type": "execute_result"
    }
   ],
   "source": [
    "result = cursor.fetchall()\n",
    "result"
   ]
  },
  {
   "cell_type": "code",
   "execution_count": 31,
   "metadata": {
    "pycharm": {
     "name": "#%%\n"
    }
   },
   "outputs": [
    {
     "data": {
      "text/plain": [
       "[('actor_id', 2, None, None, None, None, 0, 49699, 63),\n",
       " ('first_name', 253, None, None, None, None, 0, 4097, 255),\n",
       " ('last_name', 253, None, None, None, None, 0, 20489, 255),\n",
       " ('last_update', 7, None, None, None, None, 0, 9345, 63)]"
      ]
     },
     "execution_count": 31,
     "metadata": {},
     "output_type": "execute_result"
    }
   ],
   "source": [
    "cursor.description"
   ]
  },
  {
   "cell_type": "code",
   "execution_count": 32,
   "metadata": {
    "pycharm": {
     "name": "#%%\n"
    }
   },
   "outputs": [
    {
     "data": {
      "text/html": [
       "<div>\n",
       "<style scoped>\n",
       "    .dataframe tbody tr th:only-of-type {\n",
       "        vertical-align: middle;\n",
       "    }\n",
       "\n",
       "    .dataframe tbody tr th {\n",
       "        vertical-align: top;\n",
       "    }\n",
       "\n",
       "    .dataframe thead th {\n",
       "        text-align: right;\n",
       "    }\n",
       "</style>\n",
       "<table border=\"1\" class=\"dataframe\">\n",
       "  <thead>\n",
       "    <tr style=\"text-align: right;\">\n",
       "      <th></th>\n",
       "      <th>actor_id</th>\n",
       "      <th>first_name</th>\n",
       "      <th>last_name</th>\n",
       "      <th>last_update</th>\n",
       "    </tr>\n",
       "  </thead>\n",
       "  <tbody>\n",
       "    <tr>\n",
       "      <th>0</th>\n",
       "      <td>1</td>\n",
       "      <td>PENELOPE</td>\n",
       "      <td>GUINESS</td>\n",
       "      <td>2006-02-15 04:34:33</td>\n",
       "    </tr>\n",
       "    <tr>\n",
       "      <th>1</th>\n",
       "      <td>2</td>\n",
       "      <td>NICK</td>\n",
       "      <td>WAHLBERG</td>\n",
       "      <td>2006-02-15 04:34:33</td>\n",
       "    </tr>\n",
       "    <tr>\n",
       "      <th>2</th>\n",
       "      <td>3</td>\n",
       "      <td>ED</td>\n",
       "      <td>CHASE</td>\n",
       "      <td>2006-02-15 04:34:33</td>\n",
       "    </tr>\n",
       "    <tr>\n",
       "      <th>3</th>\n",
       "      <td>4</td>\n",
       "      <td>JENNIFER</td>\n",
       "      <td>DAVIS</td>\n",
       "      <td>2006-02-15 04:34:33</td>\n",
       "    </tr>\n",
       "    <tr>\n",
       "      <th>4</th>\n",
       "      <td>5</td>\n",
       "      <td>JOHNNY</td>\n",
       "      <td>LOLLOBRIGIDA</td>\n",
       "      <td>2006-02-15 04:34:33</td>\n",
       "    </tr>\n",
       "    <tr>\n",
       "      <th>...</th>\n",
       "      <td>...</td>\n",
       "      <td>...</td>\n",
       "      <td>...</td>\n",
       "      <td>...</td>\n",
       "    </tr>\n",
       "    <tr>\n",
       "      <th>195</th>\n",
       "      <td>196</td>\n",
       "      <td>BELA</td>\n",
       "      <td>WALKEN</td>\n",
       "      <td>2006-02-15 04:34:33</td>\n",
       "    </tr>\n",
       "    <tr>\n",
       "      <th>196</th>\n",
       "      <td>197</td>\n",
       "      <td>REESE</td>\n",
       "      <td>WEST</td>\n",
       "      <td>2006-02-15 04:34:33</td>\n",
       "    </tr>\n",
       "    <tr>\n",
       "      <th>197</th>\n",
       "      <td>198</td>\n",
       "      <td>MARY</td>\n",
       "      <td>KEITEL</td>\n",
       "      <td>2006-02-15 04:34:33</td>\n",
       "    </tr>\n",
       "    <tr>\n",
       "      <th>198</th>\n",
       "      <td>199</td>\n",
       "      <td>JULIA</td>\n",
       "      <td>FAWCETT</td>\n",
       "      <td>2006-02-15 04:34:33</td>\n",
       "    </tr>\n",
       "    <tr>\n",
       "      <th>199</th>\n",
       "      <td>200</td>\n",
       "      <td>THORA</td>\n",
       "      <td>TEMPLE</td>\n",
       "      <td>2006-02-15 04:34:33</td>\n",
       "    </tr>\n",
       "  </tbody>\n",
       "</table>\n",
       "<p>200 rows × 4 columns</p>\n",
       "</div>"
      ],
      "text/plain": [
       "     actor_id first_name     last_name         last_update\n",
       "0           1   PENELOPE       GUINESS 2006-02-15 04:34:33\n",
       "1           2       NICK      WAHLBERG 2006-02-15 04:34:33\n",
       "2           3         ED         CHASE 2006-02-15 04:34:33\n",
       "3           4   JENNIFER         DAVIS 2006-02-15 04:34:33\n",
       "4           5     JOHNNY  LOLLOBRIGIDA 2006-02-15 04:34:33\n",
       "..        ...        ...           ...                 ...\n",
       "195       196       BELA        WALKEN 2006-02-15 04:34:33\n",
       "196       197      REESE          WEST 2006-02-15 04:34:33\n",
       "197       198       MARY        KEITEL 2006-02-15 04:34:33\n",
       "198       199      JULIA       FAWCETT 2006-02-15 04:34:33\n",
       "199       200      THORA        TEMPLE 2006-02-15 04:34:33\n",
       "\n",
       "[200 rows x 4 columns]"
      ]
     },
     "execution_count": 32,
     "metadata": {},
     "output_type": "execute_result"
    }
   ],
   "source": [
    "actors_df = pd.DataFrame(result, columns=[col_name[0] for col_name in cursor.description])\n",
    "actors_df"
   ]
  },
  {
   "cell_type": "code",
   "execution_count": 33,
   "metadata": {
    "pycharm": {
     "name": "#%%\n"
    }
   },
   "outputs": [],
   "source": [
    "actors_df['full_name'] = actors_df['first_name'] + ' ' + actors_df['last_name']"
   ]
  },
  {
   "cell_type": "code",
   "execution_count": 34,
   "metadata": {
    "pycharm": {
     "name": "#%%\n"
    }
   },
   "outputs": [
    {
     "data": {
      "text/html": [
       "<div>\n",
       "<style scoped>\n",
       "    .dataframe tbody tr th:only-of-type {\n",
       "        vertical-align: middle;\n",
       "    }\n",
       "\n",
       "    .dataframe tbody tr th {\n",
       "        vertical-align: top;\n",
       "    }\n",
       "\n",
       "    .dataframe thead th {\n",
       "        text-align: right;\n",
       "    }\n",
       "</style>\n",
       "<table border=\"1\" class=\"dataframe\">\n",
       "  <thead>\n",
       "    <tr style=\"text-align: right;\">\n",
       "      <th></th>\n",
       "      <th>actor_id</th>\n",
       "      <th>first_name</th>\n",
       "      <th>last_name</th>\n",
       "      <th>last_update</th>\n",
       "      <th>full_name</th>\n",
       "    </tr>\n",
       "  </thead>\n",
       "  <tbody>\n",
       "    <tr>\n",
       "      <th>0</th>\n",
       "      <td>1</td>\n",
       "      <td>PENELOPE</td>\n",
       "      <td>GUINESS</td>\n",
       "      <td>2006-02-15 04:34:33</td>\n",
       "      <td>PENELOPE GUINESS</td>\n",
       "    </tr>\n",
       "    <tr>\n",
       "      <th>1</th>\n",
       "      <td>2</td>\n",
       "      <td>NICK</td>\n",
       "      <td>WAHLBERG</td>\n",
       "      <td>2006-02-15 04:34:33</td>\n",
       "      <td>NICK WAHLBERG</td>\n",
       "    </tr>\n",
       "    <tr>\n",
       "      <th>2</th>\n",
       "      <td>3</td>\n",
       "      <td>ED</td>\n",
       "      <td>CHASE</td>\n",
       "      <td>2006-02-15 04:34:33</td>\n",
       "      <td>ED CHASE</td>\n",
       "    </tr>\n",
       "    <tr>\n",
       "      <th>3</th>\n",
       "      <td>4</td>\n",
       "      <td>JENNIFER</td>\n",
       "      <td>DAVIS</td>\n",
       "      <td>2006-02-15 04:34:33</td>\n",
       "      <td>JENNIFER DAVIS</td>\n",
       "    </tr>\n",
       "    <tr>\n",
       "      <th>4</th>\n",
       "      <td>5</td>\n",
       "      <td>JOHNNY</td>\n",
       "      <td>LOLLOBRIGIDA</td>\n",
       "      <td>2006-02-15 04:34:33</td>\n",
       "      <td>JOHNNY LOLLOBRIGIDA</td>\n",
       "    </tr>\n",
       "    <tr>\n",
       "      <th>...</th>\n",
       "      <td>...</td>\n",
       "      <td>...</td>\n",
       "      <td>...</td>\n",
       "      <td>...</td>\n",
       "      <td>...</td>\n",
       "    </tr>\n",
       "    <tr>\n",
       "      <th>195</th>\n",
       "      <td>196</td>\n",
       "      <td>BELA</td>\n",
       "      <td>WALKEN</td>\n",
       "      <td>2006-02-15 04:34:33</td>\n",
       "      <td>BELA WALKEN</td>\n",
       "    </tr>\n",
       "    <tr>\n",
       "      <th>196</th>\n",
       "      <td>197</td>\n",
       "      <td>REESE</td>\n",
       "      <td>WEST</td>\n",
       "      <td>2006-02-15 04:34:33</td>\n",
       "      <td>REESE WEST</td>\n",
       "    </tr>\n",
       "    <tr>\n",
       "      <th>197</th>\n",
       "      <td>198</td>\n",
       "      <td>MARY</td>\n",
       "      <td>KEITEL</td>\n",
       "      <td>2006-02-15 04:34:33</td>\n",
       "      <td>MARY KEITEL</td>\n",
       "    </tr>\n",
       "    <tr>\n",
       "      <th>198</th>\n",
       "      <td>199</td>\n",
       "      <td>JULIA</td>\n",
       "      <td>FAWCETT</td>\n",
       "      <td>2006-02-15 04:34:33</td>\n",
       "      <td>JULIA FAWCETT</td>\n",
       "    </tr>\n",
       "    <tr>\n",
       "      <th>199</th>\n",
       "      <td>200</td>\n",
       "      <td>THORA</td>\n",
       "      <td>TEMPLE</td>\n",
       "      <td>2006-02-15 04:34:33</td>\n",
       "      <td>THORA TEMPLE</td>\n",
       "    </tr>\n",
       "  </tbody>\n",
       "</table>\n",
       "<p>200 rows × 5 columns</p>\n",
       "</div>"
      ],
      "text/plain": [
       "     actor_id first_name     last_name         last_update  \\\n",
       "0           1   PENELOPE       GUINESS 2006-02-15 04:34:33   \n",
       "1           2       NICK      WAHLBERG 2006-02-15 04:34:33   \n",
       "2           3         ED         CHASE 2006-02-15 04:34:33   \n",
       "3           4   JENNIFER         DAVIS 2006-02-15 04:34:33   \n",
       "4           5     JOHNNY  LOLLOBRIGIDA 2006-02-15 04:34:33   \n",
       "..        ...        ...           ...                 ...   \n",
       "195       196       BELA        WALKEN 2006-02-15 04:34:33   \n",
       "196       197      REESE          WEST 2006-02-15 04:34:33   \n",
       "197       198       MARY        KEITEL 2006-02-15 04:34:33   \n",
       "198       199      JULIA       FAWCETT 2006-02-15 04:34:33   \n",
       "199       200      THORA        TEMPLE 2006-02-15 04:34:33   \n",
       "\n",
       "               full_name  \n",
       "0       PENELOPE GUINESS  \n",
       "1          NICK WAHLBERG  \n",
       "2               ED CHASE  \n",
       "3         JENNIFER DAVIS  \n",
       "4    JOHNNY LOLLOBRIGIDA  \n",
       "..                   ...  \n",
       "195          BELA WALKEN  \n",
       "196           REESE WEST  \n",
       "197          MARY KEITEL  \n",
       "198        JULIA FAWCETT  \n",
       "199         THORA TEMPLE  \n",
       "\n",
       "[200 rows x 5 columns]"
      ]
     },
     "execution_count": 34,
     "metadata": {},
     "output_type": "execute_result"
    }
   ],
   "source": [
    "actors_df"
   ]
  },
  {
   "cell_type": "markdown",
   "metadata": {
    "pycharm": {
     "name": "#%% md\n"
    }
   },
   "source": [
    "# PYTHON TO MYSQL\n"
   ]
  },
  {
   "cell_type": "code",
   "execution_count": 35,
   "metadata": {
    "pycharm": {
     "name": "#%%\n"
    }
   },
   "outputs": [],
   "source": [
    "query = \"\"\"\n",
    "CREATE SCHEMA newlabs;\n",
    "\"\"\""
   ]
  },
  {
   "cell_type": "code",
   "execution_count": 36,
   "metadata": {
    "pycharm": {
     "name": "#%%\n"
    }
   },
   "outputs": [
    {
     "ename": "DatabaseError",
     "evalue": "1007 (HY000): Can't create database 'newlabs'; database exists",
     "output_type": "error",
     "traceback": [
      "\u001B[1;31m---------------------------------------------------------------------------\u001B[0m",
      "\u001B[1;31mMySQLInterfaceError\u001B[0m                       Traceback (most recent call last)",
      "File \u001B[1;32mc:\\Users\\Acer\\anaconda3\\envs\\ClassJuly7\\lib\\site-packages\\mysql\\connector\\connection_cext.py:535\u001B[0m, in \u001B[0;36mCMySQLConnection.cmd_query\u001B[1;34m(self, query, raw, buffered, raw_as_string)\u001B[0m\n\u001B[0;32m    534\u001B[0m         query \u001B[39m=\u001B[39m query\u001B[39m.\u001B[39mencode(\u001B[39m'\u001B[39m\u001B[39mutf-8\u001B[39m\u001B[39m'\u001B[39m)\n\u001B[1;32m--> 535\u001B[0m     \u001B[39mself\u001B[39;49m\u001B[39m.\u001B[39;49m_cmysql\u001B[39m.\u001B[39;49mquery(query,\n\u001B[0;32m    536\u001B[0m                        raw\u001B[39m=\u001B[39;49mraw, buffered\u001B[39m=\u001B[39;49mbuffered,\n\u001B[0;32m    537\u001B[0m                        raw_as_string\u001B[39m=\u001B[39;49mraw_as_string,\n\u001B[0;32m    538\u001B[0m                        query_attrs\u001B[39m=\u001B[39;49m\u001B[39mself\u001B[39;49m\u001B[39m.\u001B[39;49m_query_attrs)\n\u001B[0;32m    539\u001B[0m \u001B[39mexcept\u001B[39;00m MySQLInterfaceError \u001B[39mas\u001B[39;00m exc:\n",
      "\u001B[1;31mMySQLInterfaceError\u001B[0m: Can't create database 'newlabs'; database exists",
      "\nDuring handling of the above exception, another exception occurred:\n",
      "\u001B[1;31mDatabaseError\u001B[0m                             Traceback (most recent call last)",
      "\u001B[1;32mc:\\Users\\Acer\\OneDrive\\Desktop\\Python VSC\\python_to_sql.ipynb Cell 14\u001B[0m in \u001B[0;36m<cell line: 1>\u001B[1;34m()\u001B[0m\n\u001B[1;32m----> <a href='vscode-notebook-cell:/c%3A/Users/Acer/OneDrive/Desktop/Python%20VSC/python_to_sql.ipynb#ch0000010?line=0'>1</a>\u001B[0m cursor\u001B[39m.\u001B[39;49mexecute(query)\n",
      "File \u001B[1;32mc:\\Users\\Acer\\anaconda3\\envs\\ClassJuly7\\lib\\site-packages\\mysql\\connector\\cursor_cext.py:269\u001B[0m, in \u001B[0;36mCMySQLCursor.execute\u001B[1;34m(self, operation, params, multi)\u001B[0m\n\u001B[0;32m    265\u001B[0m             \u001B[39mraise\u001B[39;00m errors\u001B[39m.\u001B[39mProgrammingError(\n\u001B[0;32m    266\u001B[0m                 \u001B[39m\"\u001B[39m\u001B[39mNot all parameters were used in the SQL statement\u001B[39m\u001B[39m\"\u001B[39m)\n\u001B[0;32m    268\u001B[0m \u001B[39mtry\u001B[39;00m:\n\u001B[1;32m--> 269\u001B[0m     result \u001B[39m=\u001B[39m \u001B[39mself\u001B[39;49m\u001B[39m.\u001B[39;49m_cnx\u001B[39m.\u001B[39;49mcmd_query(stmt, raw\u001B[39m=\u001B[39;49m\u001B[39mself\u001B[39;49m\u001B[39m.\u001B[39;49m_raw,\n\u001B[0;32m    270\u001B[0m                                  buffered\u001B[39m=\u001B[39;49m\u001B[39mself\u001B[39;49m\u001B[39m.\u001B[39;49m_buffered,\n\u001B[0;32m    271\u001B[0m                                  raw_as_string\u001B[39m=\u001B[39;49m\u001B[39mself\u001B[39;49m\u001B[39m.\u001B[39;49m_raw_as_string)\n\u001B[0;32m    272\u001B[0m \u001B[39mexcept\u001B[39;00m MySQLInterfaceError \u001B[39mas\u001B[39;00m exc:\n\u001B[0;32m    273\u001B[0m     \u001B[39mraise\u001B[39;00m errors\u001B[39m.\u001B[39mget_mysql_exception(msg\u001B[39m=\u001B[39mexc\u001B[39m.\u001B[39mmsg, errno\u001B[39m=\u001B[39mexc\u001B[39m.\u001B[39merrno,\n\u001B[0;32m    274\u001B[0m                                      sqlstate\u001B[39m=\u001B[39mexc\u001B[39m.\u001B[39msqlstate)\n",
      "File \u001B[1;32mc:\\Users\\Acer\\anaconda3\\envs\\ClassJuly7\\lib\\site-packages\\mysql\\connector\\connection_cext.py:540\u001B[0m, in \u001B[0;36mCMySQLConnection.cmd_query\u001B[1;34m(self, query, raw, buffered, raw_as_string)\u001B[0m\n\u001B[0;32m    535\u001B[0m     \u001B[39mself\u001B[39m\u001B[39m.\u001B[39m_cmysql\u001B[39m.\u001B[39mquery(query,\n\u001B[0;32m    536\u001B[0m                        raw\u001B[39m=\u001B[39mraw, buffered\u001B[39m=\u001B[39mbuffered,\n\u001B[0;32m    537\u001B[0m                        raw_as_string\u001B[39m=\u001B[39mraw_as_string,\n\u001B[0;32m    538\u001B[0m                        query_attrs\u001B[39m=\u001B[39m\u001B[39mself\u001B[39m\u001B[39m.\u001B[39m_query_attrs)\n\u001B[0;32m    539\u001B[0m \u001B[39mexcept\u001B[39;00m MySQLInterfaceError \u001B[39mas\u001B[39;00m exc:\n\u001B[1;32m--> 540\u001B[0m     \u001B[39mraise\u001B[39;00m errors\u001B[39m.\u001B[39mget_mysql_exception(exc\u001B[39m.\u001B[39merrno, msg\u001B[39m=\u001B[39mexc\u001B[39m.\u001B[39mmsg,\n\u001B[0;32m    541\u001B[0m                                      sqlstate\u001B[39m=\u001B[39mexc\u001B[39m.\u001B[39msqlstate)\n\u001B[0;32m    542\u001B[0m \u001B[39mexcept\u001B[39;00m \u001B[39mAttributeError\u001B[39;00m:\n\u001B[0;32m    543\u001B[0m     \u001B[39mif\u001B[39;00m \u001B[39mself\u001B[39m\u001B[39m.\u001B[39m_unix_socket:\n",
      "\u001B[1;31mDatabaseError\u001B[0m: 1007 (HY000): Can't create database 'newlabs'; database exists"
     ]
    }
   ],
   "source": [
    "cursor.execute(query)"
   ]
  },
  {
   "cell_type": "code",
   "execution_count": 53,
   "metadata": {
    "pycharm": {
     "name": "#%%\n"
    }
   },
   "outputs": [],
   "source": [
    "# create a table country with country_id and country_name\n",
    "\n",
    "query1 = \"\"\"\n",
    "            CREATE TABLE IF NOT EXISTS\n",
    "            newlabs.country(\n",
    "            country_id TINYINT PRIMARY KEY,\n",
    "            country_name VARCHAR(52)\n",
    "            );\n",
    "        \"\"\""
   ]
  },
  {
   "cell_type": "code",
   "execution_count": 54,
   "metadata": {
    "pycharm": {
     "name": "#%%\n"
    }
   },
   "outputs": [],
   "source": [
    "cursor.execute(query1)"
   ]
  },
  {
   "cell_type": "code",
   "execution_count": 55,
   "metadata": {
    "pycharm": {
     "name": "#%%\n"
    }
   },
   "outputs": [],
   "source": [
    "query2 = \"\"\"\n",
    "CREATE TABLE IF NOT EXISTS\n",
    "newlabs.demo(\n",
    "    student_id SMALLINT PRIMARY KEY,\n",
    "    student_name VARCHAR(85),\n",
    "    email VARCHAR(85),\n",
    "    coolness TINYINT NOT NULL,\n",
    "    country_id TINYINT NOT NULL, \n",
    "    FOREIGN KEY (country_id) REFERENCES country(country_id)\n",
    ");\n",
    "\"\"\""
   ]
  },
  {
   "cell_type": "code",
   "execution_count": 56,
   "metadata": {
    "pycharm": {
     "name": "#%%\n"
    }
   },
   "outputs": [],
   "source": [
    "cursor.execute(query2)"
   ]
  },
  {
   "cell_type": "code",
   "execution_count": 57,
   "metadata": {
    "pycharm": {
     "name": "#%%\n"
    }
   },
   "outputs": [],
   "source": [
    "query = \"\"\" \n",
    "INSERT INTO newlabs.country(country_id, country_name)\n",
    "VALUES (0, \"Portugal\"),\n",
    "(1, \"France\"),\n",
    "(2, \"Indonesia\");\n",
    "\"\"\"\n",
    "\n",
    "cursor.execute(query)"
   ]
  },
  {
   "cell_type": "code",
   "execution_count": 58,
   "metadata": {
    "pycharm": {
     "name": "#%%\n"
    }
   },
   "outputs": [],
   "source": [
    "cnx.commit()"
   ]
  },
  {
   "cell_type": "code",
   "execution_count": 59,
   "metadata": {
    "pycharm": {
     "name": "#%%\n"
    }
   },
   "outputs": [
    {
     "data": {
      "text/html": [
       "<div>\n",
       "<style scoped>\n",
       "    .dataframe tbody tr th:only-of-type {\n",
       "        vertical-align: middle;\n",
       "    }\n",
       "\n",
       "    .dataframe tbody tr th {\n",
       "        vertical-align: top;\n",
       "    }\n",
       "\n",
       "    .dataframe thead th {\n",
       "        text-align: right;\n",
       "    }\n",
       "</style>\n",
       "<table border=\"1\" class=\"dataframe\">\n",
       "  <thead>\n",
       "    <tr style=\"text-align: right;\">\n",
       "      <th></th>\n",
       "      <th>actor_id</th>\n",
       "      <th>first_name</th>\n",
       "      <th>last_name</th>\n",
       "      <th>last_update</th>\n",
       "      <th>full_name</th>\n",
       "    </tr>\n",
       "  </thead>\n",
       "  <tbody>\n",
       "    <tr>\n",
       "      <th>0</th>\n",
       "      <td>1</td>\n",
       "      <td>PENELOPE</td>\n",
       "      <td>GUINESS</td>\n",
       "      <td>2006-02-15 04:34:33</td>\n",
       "      <td>PENELOPE GUINESS</td>\n",
       "    </tr>\n",
       "    <tr>\n",
       "      <th>1</th>\n",
       "      <td>2</td>\n",
       "      <td>NICK</td>\n",
       "      <td>WAHLBERG</td>\n",
       "      <td>2006-02-15 04:34:33</td>\n",
       "      <td>NICK WAHLBERG</td>\n",
       "    </tr>\n",
       "    <tr>\n",
       "      <th>2</th>\n",
       "      <td>3</td>\n",
       "      <td>ED</td>\n",
       "      <td>CHASE</td>\n",
       "      <td>2006-02-15 04:34:33</td>\n",
       "      <td>ED CHASE</td>\n",
       "    </tr>\n",
       "    <tr>\n",
       "      <th>3</th>\n",
       "      <td>4</td>\n",
       "      <td>JENNIFER</td>\n",
       "      <td>DAVIS</td>\n",
       "      <td>2006-02-15 04:34:33</td>\n",
       "      <td>JENNIFER DAVIS</td>\n",
       "    </tr>\n",
       "    <tr>\n",
       "      <th>4</th>\n",
       "      <td>5</td>\n",
       "      <td>JOHNNY</td>\n",
       "      <td>LOLLOBRIGIDA</td>\n",
       "      <td>2006-02-15 04:34:33</td>\n",
       "      <td>JOHNNY LOLLOBRIGIDA</td>\n",
       "    </tr>\n",
       "    <tr>\n",
       "      <th>...</th>\n",
       "      <td>...</td>\n",
       "      <td>...</td>\n",
       "      <td>...</td>\n",
       "      <td>...</td>\n",
       "      <td>...</td>\n",
       "    </tr>\n",
       "    <tr>\n",
       "      <th>195</th>\n",
       "      <td>196</td>\n",
       "      <td>BELA</td>\n",
       "      <td>WALKEN</td>\n",
       "      <td>2006-02-15 04:34:33</td>\n",
       "      <td>BELA WALKEN</td>\n",
       "    </tr>\n",
       "    <tr>\n",
       "      <th>196</th>\n",
       "      <td>197</td>\n",
       "      <td>REESE</td>\n",
       "      <td>WEST</td>\n",
       "      <td>2006-02-15 04:34:33</td>\n",
       "      <td>REESE WEST</td>\n",
       "    </tr>\n",
       "    <tr>\n",
       "      <th>197</th>\n",
       "      <td>198</td>\n",
       "      <td>MARY</td>\n",
       "      <td>KEITEL</td>\n",
       "      <td>2006-02-15 04:34:33</td>\n",
       "      <td>MARY KEITEL</td>\n",
       "    </tr>\n",
       "    <tr>\n",
       "      <th>198</th>\n",
       "      <td>199</td>\n",
       "      <td>JULIA</td>\n",
       "      <td>FAWCETT</td>\n",
       "      <td>2006-02-15 04:34:33</td>\n",
       "      <td>JULIA FAWCETT</td>\n",
       "    </tr>\n",
       "    <tr>\n",
       "      <th>199</th>\n",
       "      <td>200</td>\n",
       "      <td>THORA</td>\n",
       "      <td>TEMPLE</td>\n",
       "      <td>2006-02-15 04:34:33</td>\n",
       "      <td>THORA TEMPLE</td>\n",
       "    </tr>\n",
       "  </tbody>\n",
       "</table>\n",
       "<p>200 rows × 5 columns</p>\n",
       "</div>"
      ],
      "text/plain": [
       "     actor_id first_name     last_name         last_update  \\\n",
       "0           1   PENELOPE       GUINESS 2006-02-15 04:34:33   \n",
       "1           2       NICK      WAHLBERG 2006-02-15 04:34:33   \n",
       "2           3         ED         CHASE 2006-02-15 04:34:33   \n",
       "3           4   JENNIFER         DAVIS 2006-02-15 04:34:33   \n",
       "4           5     JOHNNY  LOLLOBRIGIDA 2006-02-15 04:34:33   \n",
       "..        ...        ...           ...                 ...   \n",
       "195       196       BELA        WALKEN 2006-02-15 04:34:33   \n",
       "196       197      REESE          WEST 2006-02-15 04:34:33   \n",
       "197       198       MARY        KEITEL 2006-02-15 04:34:33   \n",
       "198       199      JULIA       FAWCETT 2006-02-15 04:34:33   \n",
       "199       200      THORA        TEMPLE 2006-02-15 04:34:33   \n",
       "\n",
       "               full_name  \n",
       "0       PENELOPE GUINESS  \n",
       "1          NICK WAHLBERG  \n",
       "2               ED CHASE  \n",
       "3         JENNIFER DAVIS  \n",
       "4    JOHNNY LOLLOBRIGIDA  \n",
       "..                   ...  \n",
       "195          BELA WALKEN  \n",
       "196           REESE WEST  \n",
       "197          MARY KEITEL  \n",
       "198        JULIA FAWCETT  \n",
       "199         THORA TEMPLE  \n",
       "\n",
       "[200 rows x 5 columns]"
      ]
     },
     "execution_count": 59,
     "metadata": {},
     "output_type": "execute_result"
    }
   ],
   "source": [
    "actors_df\n",
    "## student_id, student_name, coolness, country_id"
   ]
  },
  {
   "cell_type": "markdown",
   "metadata": {
    "pycharm": {
     "name": "#%% md\n"
    }
   },
   "source": [
    " for the project send information to a database\n",
    " foreign keys need to be created..."
   ]
  },
  {
   "cell_type": "code",
   "execution_count": null,
   "metadata": {
    "pycharm": {
     "name": "#%%\n"
    }
   },
   "outputs": [],
   "source": [
    "## we don't perform loops on columns"
   ]
  },
  {
   "cell_type": "code",
   "execution_count": null,
   "metadata": {
    "pycharm": {
     "name": "#%%\n"
    }
   },
   "outputs": [],
   "source": [
    "#zip - puts them together (join them into a list of tuple to make it easy to iterate)\n",
    "# list - it is to chnage the zip object into a list\n",
    "l_id_name = list(zip(actors_df[\"actor_id\"], actors_df[\"full_name\"]))\n",
    "\n",
    "for index, name in l_id_name:\n",
    "    print(index)\n",
    "    print(name)"
   ]
  },
  {
   "cell_type": "code",
   "execution_count": 60,
   "metadata": {
    "pycharm": {
     "name": "#%%\n"
    }
   },
   "outputs": [],
   "source": [
    "import random\n",
    "\n",
    "l_id_name = list(zip(actors_df[\"actor_id\"], actors_df[\"full_name\"]))\n",
    "\n",
    "for index, name in l_id_name:\n",
    "    query = \"\"\"INSERT INTO newlabs.demo(student_id, student_name, coolness, country_id)\n",
    "    VALUES (%s, %s, %s, %s);\n",
    "    \"\"\"\n",
    "    values = (index, name, 10, random.choice ([0,1,2]))\n",
    "\n",
    "    cursor.execute(query, params=values)\n",
    "\n",
    "cnx.commit()    "
   ]
  },
  {
   "cell_type": "code",
   "execution_count": 61,
   "metadata": {
    "pycharm": {
     "name": "#%%\n"
    }
   },
   "outputs": [
    {
     "data": {
      "text/plain": [
       "True"
      ]
     },
     "execution_count": 61,
     "metadata": {},
     "output_type": "execute_result"
    }
   ],
   "source": [
    "cursor.close()"
   ]
  },
  {
   "cell_type": "code",
   "execution_count": 62,
   "metadata": {
    "pycharm": {
     "name": "#%%\n"
    }
   },
   "outputs": [],
   "source": [
    "cnx.close()"
   ]
  },
  {
   "cell_type": "code",
   "execution_count": null,
   "metadata": {
    "pycharm": {
     "name": "#%%\n"
    }
   },
   "outputs": [],
   "source": []
  }
 ],
 "metadata": {
  "kernelspec": {
   "display_name": "Python 3.9.12 ('ClassJuly7')",
   "language": "python",
   "name": "python3"
  },
  "language_info": {
   "codemirror_mode": {
    "name": "ipython",
    "version": 3
   },
   "file_extension": ".py",
   "mimetype": "text/x-python",
   "name": "python",
   "nbconvert_exporter": "python",
   "pygments_lexer": "ipython3",
   "version": "3.9.13"
  },
  "orig_nbformat": 4,
  "vscode": {
   "interpreter": {
    "hash": "26ce022d4acb40739b66637a34781e557fcd0150734cbabfddd6b99484a439c0"
   }
  }
 },
 "nbformat": 4,
 "nbformat_minor": 2
}